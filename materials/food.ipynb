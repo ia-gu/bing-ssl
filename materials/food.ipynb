{
 "cells": [
  {
   "cell_type": "code",
   "execution_count": 1,
   "metadata": {},
   "outputs": [],
   "source": [
    "import tarfile\n",
    "\n",
    "with tarfile.open('./materials/food.gz') as tar:\n",
    "    tar.extractall()"
   ]
  },
  {
   "cell_type": "code",
   "execution_count": 8,
   "metadata": {},
   "outputs": [
    {
     "data": {
      "text/plain": [
       "['apple_pie', '1005649']"
      ]
     },
     "execution_count": 8,
     "metadata": {},
     "output_type": "execute_result"
    }
   ],
   "source": [
    "with open('foods/meta/train.txt', 'r') as f:\n",
    "    contents = f.read()\n",
    "contents.split('\\n')[0].split('/')"
   ]
  },
  {
   "cell_type": "code",
   "execution_count": 9,
   "metadata": {},
   "outputs": [],
   "source": [
    "import os\n",
    "import shutil\n",
    "for c in contents.split('\\n'):\n",
    "    if not os.path.exists('./foods/train/'+c.split('/')[0]):\n",
    "        os.makedirs('./foods/train/'+c.split('/')[0])\n",
    "    shutil.copy('./foods/images/'+c+'.jpg', './foods/train/'+c+'.jpg')"
   ]
  },
  {
   "cell_type": "code",
   "execution_count": 10,
   "metadata": {},
   "outputs": [
    {
     "data": {
      "text/plain": [
       "['apple_pie', '1011328']"
      ]
     },
     "execution_count": 10,
     "metadata": {},
     "output_type": "execute_result"
    }
   ],
   "source": [
    "with open('foods/meta/test.txt', 'r') as f:\n",
    "    contents = f.read()\n",
    "contents.split('\\n')[0].split('/')"
   ]
  },
  {
   "cell_type": "code",
   "execution_count": 11,
   "metadata": {},
   "outputs": [],
   "source": [
    "import os\n",
    "import shutil\n",
    "for c in contents.split('\\n'):\n",
    "    if not os.path.exists('./foods/test/'+c.split('/')[0]):\n",
    "        os.makedirs('./foods/test/'+c.split('/')[0])\n",
    "    shutil.copy('./foods/images/'+c+'.jpg', './foods/test/'+c+'.jpg')"
   ]
  },
  {
   "cell_type": "code",
   "execution_count": null,
   "metadata": {},
   "outputs": [],
   "source": []
  }
 ],
 "metadata": {
  "kernelspec": {
   "display_name": "torch_gpu",
   "language": "python",
   "name": "python3"
  },
  "language_info": {
   "codemirror_mode": {
    "name": "ipython",
    "version": 3
   },
   "file_extension": ".py",
   "mimetype": "text/x-python",
   "name": "python",
   "nbconvert_exporter": "python",
   "pygments_lexer": "ipython3",
   "version": "3.8.12"
  },
  "orig_nbformat": 4
 },
 "nbformat": 4,
 "nbformat_minor": 2
}
